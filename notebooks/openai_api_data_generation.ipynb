{
 "cells": [
  {
   "cell_type": "markdown",
   "id": "c63dde1b-0b50-49d1-8301-636c23c5be5c",
   "metadata": {},
   "source": [
    "# Synthetic data generation using OpenAI API"
   ]
  },
  {
   "cell_type": "markdown",
   "id": "ba1e795d-53d0-4d26-a95c-7a82737ebb8c",
   "metadata": {},
   "source": [
    "## Import required libraries"
   ]
  },
  {
   "cell_type": "code",
   "execution_count": 53,
   "id": "d397506e",
   "metadata": {},
   "source": [
    "import csv\n",
    "import json\n",
    "from openai import OpenAI\n",
    "import pandas as pd"
   ],
   "outputs": []
  },
  {
   "cell_type": "markdown",
   "id": "20859a0d-5bc8-44f3-b4a0-8b3fcd9452fc",
   "metadata": {},
   "source": [
    "## Create the batch input"
   ]
  },
  {
   "cell_type": "code",
   "execution_count": 62,
   "id": "ea158cd4-1240-4f21-82e5-d6d6bbe97320",
   "metadata": {},
   "source": [
    "# Define the base structure of the JSON object\n",
    "base_structure = {\n",
    "    \"custom_id\": \"request-1\",\n",
    "    \"method\": \"POST\",\n",
    "    \"url\": \"/v1/chat/completions\",\n",
    "    \"body\": {\n",
    "        \"model\": \"gpt-3.5-turbo\",\n",
    "        \"messages\": [\n",
    "            {\"role\": \"system\", \"content\": \"You are an assistant that generates unique reviews of products in Slovak with maximum of 25 words and different lengths into csv with columns review_text and sentiment (1-positive, 0-negative)\"},\n",
    "            {\"role\": \"user\", \"content\": \"Napíš 130 pozitívnych a negatívnych recenzií striedavo\"}\n",
    "        ],\n",
    "        \"max_tokens\": 4026\n",
    "    }\n",
    "}\n",
    "\n",
    "# Open a file to write the JSONL data\n",
    "with open('batch_input.jsonl', 'w') as f:\n",
    "    # Loop to create 4800 entries\n",
    "    for i in range(1, 49):\n",
    "        # Update the custom_id in the base structure\n",
    "        base_structure[\"custom_id\"] = f\"request-{i}\"\n",
    "        # Write the JSON object as a line in the file\n",
    "        f.write(json.dumps(base_structure) + '\\n')"
   ],
   "outputs": []
  },
  {
   "cell_type": "markdown",
   "id": "c91da33a-3d78-4353-8213-9cddde4f9303",
   "metadata": {},
   "source": [
    "## Load the batch input"
   ]
  },
  {
   "cell_type": "code",
   "execution_count": 63,
   "id": "23a017a3-fc1f-4b7f-9ed9-333ceaf832a9",
   "metadata": {},
   "source": [
    "client = OpenAI()"
   ],
   "outputs": []
  },
  {
   "cell_type": "code",
   "execution_count": 64,
   "id": "c68af2db",
   "metadata": {},
   "source": [
    "\n",
    "batch_input_file = client.files.create(\n",
    "  file=open(\"batch_input.jsonl\", \"rb\"),\n",
    "  purpose=\"batch\"\n",
    ")\n"
   ],
   "outputs": []
  },
  {
   "cell_type": "markdown",
   "id": "3461ebe3-a701-4713-b5b4-de05d2aa4c6c",
   "metadata": {},
   "source": [
    "## Create and send the batch for processing"
   ]
  },
  {
   "cell_type": "code",
   "execution_count": 65,
   "id": "49186fb7",
   "metadata": {},
   "source": [
    "batch_input_file_id = batch_input_file.id\n",
    "\n",
    "client.batches.create(\n",
    "    input_file_id=batch_input_file_id,\n",
    "    endpoint=\"/v1/chat/completions\",\n",
    "    completion_window=\"24h\",\n",
    "    metadata={\n",
    "      \"description\": \"reviews data\"\n",
    "    }\n",
    ")"
   ],
   "outputs": []
  },
  {
   "cell_type": "markdown",
   "id": "1ba3f82e-5246-414e-8289-0c7288a04d74",
   "metadata": {},
   "source": [
    "## Retrieve the batch info"
   ]
  },
  {
   "cell_type": "code",
   "execution_count": 66,
   "id": "5e5d0f0f",
   "metadata": {},
   "source": [
    "client.batches.retrieve(\"batch_pJtDc5AvpklTVhj37Vlmejun\")"
   ],
   "outputs": []
  },
  {
   "cell_type": "markdown",
   "id": "43362c43-32d8-4ccf-bb0a-9091bbf4e66b",
   "metadata": {},
   "source": [
    "## Load the batch output when it's done"
   ]
  },
  {
   "cell_type": "code",
   "execution_count": 6,
   "id": "463b24ad",
   "metadata": {},
   "source": [
    "# content = client.files.content(\"file-YSIhGaf310zV6RUXt1AnNwsj\").content # 10 reviews\n",
    "# content = client.files.content(\"batch_qQoYeYrrJQFdjjASb6oRjHUM\") # 1000 reviews\n",
    "content = client.files.content(\"file-jls9PUyOnFSbQXotF2sTDD0f\").content"
   ],
   "outputs": []
  },
  {
   "cell_type": "markdown",
   "id": "ddc90483-d314-4d06-bd4f-704ef5c570fd",
   "metadata": {},
   "source": [
    "## Save the batch output"
   ]
  },
  {
   "cell_type": "code",
   "execution_count": 7,
   "id": "d652f4ff",
   "metadata": {},
   "source": [
    "with open('data/gpt_reviews.jsonl', 'wb') as file:\n",
    "    file.write(content)"
   ],
   "outputs": []
  },
  {
   "cell_type": "markdown",
   "id": "c095cf50-e8e6-483b-8d31-19cc8db97c2d",
   "metadata": {},
   "source": [
    "## Open the batch output"
   ]
  },
  {
   "cell_type": "code",
   "execution_count": 8,
   "id": "2d134e9a",
   "metadata": {},
   "source": [
    "results = []\n",
    "with open('data/gpt_reviews.jsonl', 'r') as file:\n",
    "    for line in file:\n",
    "        # Parsing the JSON string into a dict and appending to the list of results\n",
    "        json_object = json.loads(line.strip())\n",
    "        results.append(json_object)"
   ],
   "outputs": []
  },
  {
   "cell_type": "code",
   "execution_count": 9,
   "id": "2397f37c-2670-4f1d-9d81-bc99384bb7b0",
   "metadata": {},
   "source": [
    "# results[:5]"
   ],
   "outputs": []
  },
  {
   "cell_type": "markdown",
   "id": "88a73403-b87e-4945-869d-62b9c0468886",
   "metadata": {},
   "source": [
    "## Write the result to csv file"
   ]
  },
  {
   "cell_type": "code",
   "execution_count": 86,
   "id": "0f95dc91-d854-4476-b396-08101892c92d",
   "metadata": {
    "scrolled": true
   },
   "source": [
    "with open('data/gpt_3.5_reviews.csv', 'w', encoding='utf-8') as file:\n",
    "    writer = csv.writer(file, quoting=csv.QUOTE_NONNUMERIC)\n",
    "    file.write('review_text,sentiment\\n')\n",
    "    \n",
    "    for res in results:\n",
    "        result = res['response']['body']['choices'][0]['message']['content']\n",
    "        \n",
    "        result = result.replace('\"', '').replace('review_text,sentiment\\n', '').replace('```', '').replace('csv', '')\n",
    "        result = result.replace('**The output has been truncated as it has reached the maximum response length.**', '')\n",
    "        result_lines = result.split('\\n')\n",
    "        \n",
    "        for row in result_lines:\n",
    "            if row.strip():\n",
    "                parts = row.rsplit(',', 1)\n",
    "                if len(parts) == 2 and parts[1] in [1, 0, '1', '0']:\n",
    "                    review_text = parts[0].strip()\n",
    "                    sentiment = parts[1].strip()\n",
    "                    writer.writerow([review_text, int(sentiment)])\n",
    "                "
   ],
   "outputs": []
  },
  {
   "cell_type": "markdown",
   "id": "f0c84566-6e57-49cb-a57e-e5a3ed2b9c94",
   "metadata": {},
   "source": [
    "## Append the result to csv file"
   ]
  },
  {
   "cell_type": "code",
   "execution_count": 10,
   "id": "ea8b1ede-5797-4eec-a39b-27161fedb1f1",
   "metadata": {
    "scrolled": true
   },
   "source": [
    "with open('data/gpt_3.5_reviews.csv', 'a', encoding='utf-8') as file:\n",
    "    writer = csv.writer(file, quoting=csv.QUOTE_NONNUMERIC)\n",
    "    # file.write('review_text,sentiment\\n')\n",
    "    for res in results:\n",
    "        result = res['response']['body']['choices'][0]['message']['content']\n",
    "        \n",
    "        result = result.replace('\"', '').replace('review_text,sentiment\\n', '').replace('```', '').replace('csv', '')\n",
    "        result = result.replace('**The output has been truncated as it has reached the maximum response length.**', '')\n",
    "        result_lines = result.split('\\n')\n",
    "        \n",
    "        for row in result_lines:\n",
    "            if row.strip():\n",
    "                parts = row.rsplit(',', 1)\n",
    "                if len(parts) == 2 and parts[1] in [1, 0, '1', '0']:\n",
    "                    review_text = parts[0].strip()\n",
    "                    sentiment = parts[1].strip()\n",
    "                    # print(review_text, sentiment)\n",
    "                    writer.writerow([review_text, int(sentiment)])"
   ],
   "outputs": []
  },
  {
   "cell_type": "markdown",
   "id": "129d0f9d-56ec-4b78-a705-49be399c4bf0",
   "metadata": {},
   "source": [
    "## Data samples"
   ]
  },
  {
   "cell_type": "code",
   "execution_count": 92,
   "id": "0ad017a2",
   "metadata": {},
   "source": [
    "# translated_tweets_df = pd.read_csv('data/translated_tweets.csv')\n",
    "gpt4_reviews_df = pd.read_csv('data/GPT4_reviews.csv')\n",
    "gpt35_reviews_df = pd.read_csv('data/gpt_3.5_reviews.csv')\n",
    "heureka_reviews_df = pd.read_json('data/reviews.json')"
   ],
   "outputs": []
  },
  {
   "cell_type": "code",
   "execution_count": 121,
   "id": "00b28dbf",
   "metadata": {},
   "source": [
    "translated_tweets_df.head(10)"
   ],
   "outputs": []
  },
  {
   "cell_type": "code",
   "execution_count": 122,
   "id": "7d8eb2c2",
   "metadata": {},
   "source": [
    "translated_tweets_df.info()"
   ],
   "outputs": []
  },
  {
   "cell_type": "code",
   "execution_count": 93,
   "id": "cf509c93",
   "metadata": {},
   "source": [
    "# gpt4_reviews_df.drop('review_id', axis=1, inplace=True)\n",
    "gpt4_reviews_df.head(10)"
   ],
   "outputs": []
  },
  {
   "cell_type": "code",
   "execution_count": 94,
   "id": "cb57773a",
   "metadata": {},
   "source": [
    "gpt4_reviews_df.info()"
   ],
   "outputs": []
  },
  {
   "cell_type": "code",
   "execution_count": 95,
   "id": "4086a343-17d3-4fc0-aee5-f58c4c9e8ef1",
   "metadata": {},
   "source": [
    "gpt35_reviews_df.head(10)"
   ],
   "outputs": []
  },
  {
   "cell_type": "code",
   "execution_count": 96,
   "id": "90d5b9f2-e4f9-452c-8d1d-c99a510f1dda",
   "metadata": {},
   "source": [
    "gpt35_reviews_df.info()"
   ],
   "outputs": []
  },
  {
   "cell_type": "code",
   "execution_count": 97,
   "id": "35e6cba5",
   "metadata": {},
   "source": [
    "heureka_reviews_df.head(10)"
   ],
   "outputs": []
  },
  {
   "cell_type": "code",
   "execution_count": 98,
   "id": "0238b02f",
   "metadata": {},
   "source": [
    "heureka_reviews_df.info()"
   ],
   "outputs": []
  },
  {
   "cell_type": "code",
   "execution_count": null,
   "id": "f2905505-4071-49f8-b957-0140c4b8c497",
   "metadata": {},
   "source": [],
   "outputs": []
  }
 ],
 "metadata": {
  "kernelspec": {
   "display_name": "Python 3 (ipykernel)",
   "language": "python",
   "name": "python3"
  },
  "language_info": {
   "codemirror_mode": {
    "name": "ipython",
    "version": 3
   },
   "file_extension": ".py",
   "mimetype": "text/x-python",
   "name": "python",
   "nbconvert_exporter": "python",
   "pygments_lexer": "ipython3",
   "version": "3.11.5"
  }
 },
 "nbformat": 4,
 "nbformat_minor": 5
}
