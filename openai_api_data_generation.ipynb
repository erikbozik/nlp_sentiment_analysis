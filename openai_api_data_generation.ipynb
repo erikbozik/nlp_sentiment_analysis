{
 "cells": [
  {
   "cell_type": "markdown",
   "id": "c63dde1b-0b50-49d1-8301-636c23c5be5c",
   "metadata": {},
   "source": [
    "# Synthetic data generation using OpenAI API"
   ]
  },
  {
   "cell_type": "markdown",
   "id": "ba1e795d-53d0-4d26-a95c-7a82737ebb8c",
   "metadata": {},
   "source": [
    "## Import required libraries"
   ]
  },
  {
   "cell_type": "code",
   "execution_count": 53,
   "id": "d397506e",
   "metadata": {},
   "outputs": [],
   "source": [
    "import csv\n",
    "import json\n",
    "from openai import OpenAI\n",
    "import pandas as pd"
   ]
  },
  {
   "cell_type": "markdown",
   "id": "20859a0d-5bc8-44f3-b4a0-8b3fcd9452fc",
   "metadata": {},
   "source": [
    "## Create the batch input"
   ]
  },
  {
   "cell_type": "code",
   "execution_count": 62,
   "id": "ea158cd4-1240-4f21-82e5-d6d6bbe97320",
   "metadata": {},
   "outputs": [],
   "source": [
    "# Define the base structure of the JSON object\n",
    "base_structure = {\n",
    "    \"custom_id\": \"request-1\",\n",
    "    \"method\": \"POST\",\n",
    "    \"url\": \"/v1/chat/completions\",\n",
    "    \"body\": {\n",
    "        \"model\": \"gpt-3.5-turbo\",\n",
    "        \"messages\": [\n",
    "            {\"role\": \"system\", \"content\": \"You are an assistant that generates unique reviews of products in Slovak with maximum of 25 words and different lengths into csv with columns review_text and sentiment (1-positive, 0-negative)\"},\n",
    "            {\"role\": \"user\", \"content\": \"Napíš 130 pozitívnych a negatívnych recenzií striedavo\"}\n",
    "        ],\n",
    "        \"max_tokens\": 4026\n",
    "    }\n",
    "}\n",
    "\n",
    "# Open a file to write the JSONL data\n",
    "with open('batch_input.jsonl', 'w') as f:\n",
    "    # Loop to create 4800 entries\n",
    "    for i in range(1, 49):\n",
    "        # Update the custom_id in the base structure\n",
    "        base_structure[\"custom_id\"] = f\"request-{i}\"\n",
    "        # Write the JSON object as a line in the file\n",
    "        f.write(json.dumps(base_structure) + '\\n')"
   ]
  },
  {
   "cell_type": "markdown",
   "id": "c91da33a-3d78-4353-8213-9cddde4f9303",
   "metadata": {},
   "source": [
    "## Load the batch input"
   ]
  },
  {
   "cell_type": "code",
   "execution_count": 63,
   "id": "23a017a3-fc1f-4b7f-9ed9-333ceaf832a9",
   "metadata": {},
   "outputs": [],
   "source": [
    "client = OpenAI()"
   ]
  },
  {
   "cell_type": "code",
   "execution_count": 64,
   "id": "c68af2db",
   "metadata": {},
   "outputs": [],
   "source": [
    "\n",
    "batch_input_file = client.files.create(\n",
    "  file=open(\"batch_input.jsonl\", \"rb\"),\n",
    "  purpose=\"batch\"\n",
    ")\n"
   ]
  },
  {
   "cell_type": "markdown",
   "id": "3461ebe3-a701-4713-b5b4-de05d2aa4c6c",
   "metadata": {},
   "source": [
    "## Create and send the batch for processing"
   ]
  },
  {
   "cell_type": "code",
   "execution_count": 65,
   "id": "49186fb7",
   "metadata": {},
   "outputs": [
    {
     "data": {
      "text/plain": [
       "Batch(id='batch_8nHJN2XGsgzSY1DF8VnaYavR', completion_window='24h', created_at=1719097769, endpoint='/v1/chat/completions', input_file_id='file-F1GV5TupIC7DEkA6NtrbHba2', object='batch', status='validating', cancelled_at=None, cancelling_at=None, completed_at=None, error_file_id=None, errors=None, expired_at=None, expires_at=1719184169, failed_at=None, finalizing_at=None, in_progress_at=None, metadata={'description': 'reviews data'}, output_file_id=None, request_counts=BatchRequestCounts(completed=0, failed=0, total=0))"
      ]
     },
     "execution_count": 65,
     "metadata": {},
     "output_type": "execute_result"
    }
   ],
   "source": [
    "batch_input_file_id = batch_input_file.id\n",
    "\n",
    "client.batches.create(\n",
    "    input_file_id=batch_input_file_id,\n",
    "    endpoint=\"/v1/chat/completions\",\n",
    "    completion_window=\"24h\",\n",
    "    metadata={\n",
    "      \"description\": \"reviews data\"\n",
    "    }\n",
    ")"
   ]
  },
  {
   "cell_type": "markdown",
   "id": "1ba3f82e-5246-414e-8289-0c7288a04d74",
   "metadata": {},
   "source": [
    "## Retrieve the batch info"
   ]
  },
  {
   "cell_type": "code",
   "execution_count": 66,
   "id": "5e5d0f0f",
   "metadata": {},
   "outputs": [
    {
     "data": {
      "text/plain": [
       "Batch(id='batch_pJtDc5AvpklTVhj37Vlmejun', completion_window='24h', created_at=1719089251, endpoint='/v1/chat/completions', input_file_id='file-ObsBMajX2e0o0XIEMeckiqav', object='batch', status='in_progress', cancelled_at=None, cancelling_at=None, completed_at=None, error_file_id=None, errors=None, expired_at=None, expires_at=1719175651, failed_at=None, finalizing_at=None, in_progress_at=1719089252, metadata={'description': 'reviews data'}, output_file_id=None, request_counts=BatchRequestCounts(completed=0, failed=0, total=48))"
      ]
     },
     "execution_count": 66,
     "metadata": {},
     "output_type": "execute_result"
    }
   ],
   "source": [
    "client.batches.retrieve(\"batch_pJtDc5AvpklTVhj37Vlmejun\")"
   ]
  },
  {
   "cell_type": "markdown",
   "id": "43362c43-32d8-4ccf-bb0a-9091bbf4e66b",
   "metadata": {},
   "source": [
    "## Load the batch output when it's done"
   ]
  },
  {
   "cell_type": "code",
   "execution_count": 6,
   "id": "463b24ad",
   "metadata": {},
   "outputs": [],
   "source": [
    "# content = client.files.content(\"file-YSIhGaf310zV6RUXt1AnNwsj\").content # 10 reviews\n",
    "# content = client.files.content(\"batch_qQoYeYrrJQFdjjASb6oRjHUM\") # 1000 reviews\n",
    "content = client.files.content(\"file-jls9PUyOnFSbQXotF2sTDD0f\").content"
   ]
  },
  {
   "cell_type": "markdown",
   "id": "ddc90483-d314-4d06-bd4f-704ef5c570fd",
   "metadata": {},
   "source": [
    "## Save the batch output"
   ]
  },
  {
   "cell_type": "code",
   "execution_count": 7,
   "id": "d652f4ff",
   "metadata": {},
   "outputs": [],
   "source": [
    "with open('data/gpt_reviews.jsonl', 'wb') as file:\n",
    "    file.write(content)"
   ]
  },
  {
   "cell_type": "markdown",
   "id": "c095cf50-e8e6-483b-8d31-19cc8db97c2d",
   "metadata": {},
   "source": [
    "## Open the batch output"
   ]
  },
  {
   "cell_type": "code",
   "execution_count": 8,
   "id": "2d134e9a",
   "metadata": {},
   "outputs": [],
   "source": [
    "results = []\n",
    "with open('data/gpt_reviews.jsonl', 'r') as file:\n",
    "    for line in file:\n",
    "        # Parsing the JSON string into a dict and appending to the list of results\n",
    "        json_object = json.loads(line.strip())\n",
    "        results.append(json_object)"
   ]
  },
  {
   "cell_type": "code",
   "execution_count": 9,
   "id": "2397f37c-2670-4f1d-9d81-bc99384bb7b0",
   "metadata": {},
   "outputs": [],
   "source": [
    "# results[:5]"
   ]
  },
  {
   "cell_type": "markdown",
   "id": "88a73403-b87e-4945-869d-62b9c0468886",
   "metadata": {},
   "source": [
    "## Write the result to csv file"
   ]
  },
  {
   "cell_type": "code",
   "execution_count": 86,
   "id": "0f95dc91-d854-4476-b396-08101892c92d",
   "metadata": {
    "scrolled": true
   },
   "outputs": [],
   "source": [
    "with open('data/gpt_3.5_reviews.csv', 'w', encoding='utf-8') as file:\n",
    "    writer = csv.writer(file, quoting=csv.QUOTE_NONNUMERIC)\n",
    "    file.write('review_text,sentiment\\n')\n",
    "    \n",
    "    for res in results:\n",
    "        result = res['response']['body']['choices'][0]['message']['content']\n",
    "        \n",
    "        result = result.replace('\"', '').replace('review_text,sentiment\\n', '').replace('```', '').replace('csv', '')\n",
    "        result = result.replace('**The output has been truncated as it has reached the maximum response length.**', '')\n",
    "        result_lines = result.split('\\n')\n",
    "        \n",
    "        for row in result_lines:\n",
    "            if row.strip():\n",
    "                parts = row.rsplit(',', 1)\n",
    "                if len(parts) == 2 and parts[1] in [1, 0, '1', '0']:\n",
    "                    review_text = parts[0].strip()\n",
    "                    sentiment = parts[1].strip()\n",
    "                    writer.writerow([review_text, int(sentiment)])\n",
    "                "
   ]
  },
  {
   "cell_type": "markdown",
   "id": "f0c84566-6e57-49cb-a57e-e5a3ed2b9c94",
   "metadata": {},
   "source": [
    "## Append the result to csv file"
   ]
  },
  {
   "cell_type": "code",
   "execution_count": 10,
   "id": "ea8b1ede-5797-4eec-a39b-27161fedb1f1",
   "metadata": {
    "scrolled": true
   },
   "outputs": [],
   "source": [
    "with open('data/gpt_3.5_reviews.csv', 'a', encoding='utf-8') as file:\n",
    "    writer = csv.writer(file, quoting=csv.QUOTE_NONNUMERIC)\n",
    "    # file.write('review_text,sentiment\\n')\n",
    "    for res in results:\n",
    "        result = res['response']['body']['choices'][0]['message']['content']\n",
    "        \n",
    "        result = result.replace('\"', '').replace('review_text,sentiment\\n', '').replace('```', '').replace('csv', '')\n",
    "        result = result.replace('**The output has been truncated as it has reached the maximum response length.**', '')\n",
    "        result_lines = result.split('\\n')\n",
    "        \n",
    "        for row in result_lines:\n",
    "            if row.strip():\n",
    "                parts = row.rsplit(',', 1)\n",
    "                if len(parts) == 2 and parts[1] in [1, 0, '1', '0']:\n",
    "                    review_text = parts[0].strip()\n",
    "                    sentiment = parts[1].strip()\n",
    "                    # print(review_text, sentiment)\n",
    "                    writer.writerow([review_text, int(sentiment)])"
   ]
  },
  {
   "cell_type": "markdown",
   "id": "129d0f9d-56ec-4b78-a705-49be399c4bf0",
   "metadata": {},
   "source": [
    "## Data samples"
   ]
  },
  {
   "cell_type": "code",
   "execution_count": 92,
   "id": "0ad017a2",
   "metadata": {},
   "outputs": [],
   "source": [
    "# translated_tweets_df = pd.read_csv('data/translated_tweets.csv')\n",
    "gpt4_reviews_df = pd.read_csv('data/GPT4_reviews.csv')\n",
    "gpt35_reviews_df = pd.read_csv('data/gpt_3.5_reviews.csv')\n",
    "heureka_reviews_df = pd.read_json('data/reviews.json')"
   ]
  },
  {
   "cell_type": "code",
   "execution_count": 121,
   "id": "00b28dbf",
   "metadata": {},
   "outputs": [
    {
     "data": {
      "text/html": [
       "<div>\n",
       "<style scoped>\n",
       "    .dataframe tbody tr th:only-of-type {\n",
       "        vertical-align: middle;\n",
       "    }\n",
       "\n",
       "    .dataframe tbody tr th {\n",
       "        vertical-align: top;\n",
       "    }\n",
       "\n",
       "    .dataframe thead th {\n",
       "        text-align: right;\n",
       "    }\n",
       "</style>\n",
       "<table border=\"1\" class=\"dataframe\">\n",
       "  <thead>\n",
       "    <tr style=\"text-align: right;\">\n",
       "      <th></th>\n",
       "      <th>ItemID</th>\n",
       "      <th>Sentiment</th>\n",
       "      <th>SentimentSource</th>\n",
       "      <th>SentimentText</th>\n",
       "    </tr>\n",
       "  </thead>\n",
       "  <tbody>\n",
       "    <tr>\n",
       "      <th>0</th>\n",
       "      <td>1</td>\n",
       "      <td>0</td>\n",
       "      <td>Sentiment140</td>\n",
       "      <td>Je to tak smutné pre môjho APL priateľa..........</td>\n",
       "    </tr>\n",
       "    <tr>\n",
       "      <th>1</th>\n",
       "      <td>2</td>\n",
       "      <td>0</td>\n",
       "      <td>Sentiment140</td>\n",
       "      <td>Chýbal mi nový trailer...</td>\n",
       "    </tr>\n",
       "    <tr>\n",
       "      <th>2</th>\n",
       "      <td>3</td>\n",
       "      <td>1</td>\n",
       "      <td>Sentiment140</td>\n",
       "      <td>Omg je už 7:30 :O</td>\n",
       "    </tr>\n",
       "    <tr>\n",
       "      <th>3</th>\n",
       "      <td>4</td>\n",
       "      <td>0</td>\n",
       "      <td>Sentiment140</td>\n",
       "      <td>.. Omgaga. Im sooo im gunna CRy. som bol u toh...</td>\n",
       "    </tr>\n",
       "    <tr>\n",
       "      <th>4</th>\n",
       "      <td>5</td>\n",
       "      <td>0</td>\n",
       "      <td>Sentiment140</td>\n",
       "      <td>Myslím si, že mi BF podvádza na mňa!!!</td>\n",
       "    </tr>\n",
       "    <tr>\n",
       "      <th>5</th>\n",
       "      <td>6</td>\n",
       "      <td>0</td>\n",
       "      <td>Sentiment140</td>\n",
       "      <td>Alebo sa len príliš obávam?</td>\n",
       "    </tr>\n",
       "    <tr>\n",
       "      <th>6</th>\n",
       "      <td>7</td>\n",
       "      <td>1</td>\n",
       "      <td>Sentiment140</td>\n",
       "      <td>ZľavyZľavyZľavyZľavyZľavyZľavyZľavyZľavyZľavyZ...</td>\n",
       "    </tr>\n",
       "    <tr>\n",
       "      <th>7</th>\n",
       "      <td>8</td>\n",
       "      <td>0</td>\n",
       "      <td>Sentiment140</td>\n",
       "      <td>Sunny Again Work Tomorrow (TV dnes večer)</td>\n",
       "    </tr>\n",
       "    <tr>\n",
       "      <th>8</th>\n",
       "      <td>9</td>\n",
       "      <td>1</td>\n",
       "      <td>Sentiment140</td>\n",
       "      <td>dneska som ťa dostala do uniformy, už mi chýbaš</td>\n",
       "    </tr>\n",
       "    <tr>\n",
       "      <th>9</th>\n",
       "      <td>10</td>\n",
       "      <td>1</td>\n",
       "      <td>Sentiment140</td>\n",
       "      <td>Hmmmm... som zvedavý, ako sa ona moje číslo @-)</td>\n",
       "    </tr>\n",
       "  </tbody>\n",
       "</table>\n",
       "</div>"
      ],
      "text/plain": [
       "   ItemID  Sentiment SentimentSource  \\\n",
       "0       1          0    Sentiment140   \n",
       "1       2          0    Sentiment140   \n",
       "2       3          1    Sentiment140   \n",
       "3       4          0    Sentiment140   \n",
       "4       5          0    Sentiment140   \n",
       "5       6          0    Sentiment140   \n",
       "6       7          1    Sentiment140   \n",
       "7       8          0    Sentiment140   \n",
       "8       9          1    Sentiment140   \n",
       "9      10          1    Sentiment140   \n",
       "\n",
       "                                       SentimentText  \n",
       "0  Je to tak smutné pre môjho APL priateľa..........  \n",
       "1                          Chýbal mi nový trailer...  \n",
       "2                                  Omg je už 7:30 :O  \n",
       "3  .. Omgaga. Im sooo im gunna CRy. som bol u toh...  \n",
       "4             Myslím si, že mi BF podvádza na mňa!!!  \n",
       "5                        Alebo sa len príliš obávam?  \n",
       "6  ZľavyZľavyZľavyZľavyZľavyZľavyZľavyZľavyZľavyZ...  \n",
       "7          Sunny Again Work Tomorrow (TV dnes večer)  \n",
       "8    dneska som ťa dostala do uniformy, už mi chýbaš  \n",
       "9    Hmmmm... som zvedavý, ako sa ona moje číslo @-)  "
      ]
     },
     "execution_count": 121,
     "metadata": {},
     "output_type": "execute_result"
    }
   ],
   "source": [
    "translated_tweets_df.head(10)"
   ]
  },
  {
   "cell_type": "code",
   "execution_count": 122,
   "id": "7d8eb2c2",
   "metadata": {},
   "outputs": [
    {
     "name": "stdout",
     "output_type": "stream",
     "text": [
      "<class 'pandas.core.frame.DataFrame'>\n",
      "RangeIndex: 1138103 entries, 0 to 1138102\n",
      "Data columns (total 4 columns):\n",
      " #   Column           Non-Null Count    Dtype \n",
      "---  ------           --------------    ----- \n",
      " 0   ItemID           1138103 non-null  int64 \n",
      " 1   Sentiment        1138103 non-null  int64 \n",
      " 2   SentimentSource  1138103 non-null  object\n",
      " 3   SentimentText    1138103 non-null  object\n",
      "dtypes: int64(2), object(2)\n",
      "memory usage: 34.7+ MB\n"
     ]
    }
   ],
   "source": [
    "translated_tweets_df.info()"
   ]
  },
  {
   "cell_type": "code",
   "execution_count": 93,
   "id": "cf509c93",
   "metadata": {},
   "outputs": [
    {
     "data": {
      "text/html": [
       "<div>\n",
       "<style scoped>\n",
       "    .dataframe tbody tr th:only-of-type {\n",
       "        vertical-align: middle;\n",
       "    }\n",
       "\n",
       "    .dataframe tbody tr th {\n",
       "        vertical-align: top;\n",
       "    }\n",
       "\n",
       "    .dataframe thead th {\n",
       "        text-align: right;\n",
       "    }\n",
       "</style>\n",
       "<table border=\"1\" class=\"dataframe\">\n",
       "  <thead>\n",
       "    <tr style=\"text-align: right;\">\n",
       "      <th></th>\n",
       "      <th>review_id</th>\n",
       "      <th>review_text</th>\n",
       "      <th>sentiment</th>\n",
       "    </tr>\n",
       "  </thead>\n",
       "  <tbody>\n",
       "    <tr>\n",
       "      <th>0</th>\n",
       "      <td>1</td>\n",
       "      <td>Tento produkt je úžasný a veľmi užitočný!</td>\n",
       "      <td>1</td>\n",
       "    </tr>\n",
       "    <tr>\n",
       "      <th>1</th>\n",
       "      <td>2</td>\n",
       "      <td>Som sklamaný z kvality tohto produktu.</td>\n",
       "      <td>0</td>\n",
       "    </tr>\n",
       "    <tr>\n",
       "      <th>2</th>\n",
       "      <td>3</td>\n",
       "      <td>Výborne funguje, odporúčam!</td>\n",
       "      <td>1</td>\n",
       "    </tr>\n",
       "    <tr>\n",
       "      <th>3</th>\n",
       "      <td>4</td>\n",
       "      <td>Nevydrží dlho, nie je to stojí za peniaze.</td>\n",
       "      <td>0</td>\n",
       "    </tr>\n",
       "    <tr>\n",
       "      <th>4</th>\n",
       "      <td>5</td>\n",
       "      <td>Excelentná kvalita za rozumnú cenu.</td>\n",
       "      <td>1</td>\n",
       "    </tr>\n",
       "    <tr>\n",
       "      <th>5</th>\n",
       "      <td>6</td>\n",
       "      <td>Produkt neprišiel včas a bol poškodený.</td>\n",
       "      <td>0</td>\n",
       "    </tr>\n",
       "    <tr>\n",
       "      <th>6</th>\n",
       "      <td>7</td>\n",
       "      <td>Veľmi spokojný s nákupom!</td>\n",
       "      <td>1</td>\n",
       "    </tr>\n",
       "    <tr>\n",
       "      <th>7</th>\n",
       "      <td>8</td>\n",
       "      <td>Hrozná zákaznícka podpora a produkt nezodpoved...</td>\n",
       "      <td>0</td>\n",
       "    </tr>\n",
       "    <tr>\n",
       "      <th>8</th>\n",
       "      <td>9</td>\n",
       "      <td>Výborný nákup, produkt presne ako je popísaný.</td>\n",
       "      <td>1</td>\n",
       "    </tr>\n",
       "    <tr>\n",
       "      <th>9</th>\n",
       "      <td>10</td>\n",
       "      <td>Úplne nevhodný, vrátil som ho.</td>\n",
       "      <td>0</td>\n",
       "    </tr>\n",
       "  </tbody>\n",
       "</table>\n",
       "</div>"
      ],
      "text/plain": [
       "   review_id                                        review_text  sentiment\n",
       "0          1          Tento produkt je úžasný a veľmi užitočný!          1\n",
       "1          2             Som sklamaný z kvality tohto produktu.          0\n",
       "2          3                        Výborne funguje, odporúčam!          1\n",
       "3          4         Nevydrží dlho, nie je to stojí za peniaze.          0\n",
       "4          5                Excelentná kvalita za rozumnú cenu.          1\n",
       "5          6            Produkt neprišiel včas a bol poškodený.          0\n",
       "6          7                          Veľmi spokojný s nákupom!          1\n",
       "7          8  Hrozná zákaznícka podpora a produkt nezodpoved...          0\n",
       "8          9     Výborný nákup, produkt presne ako je popísaný.          1\n",
       "9         10                     Úplne nevhodný, vrátil som ho.          0"
      ]
     },
     "execution_count": 93,
     "metadata": {},
     "output_type": "execute_result"
    }
   ],
   "source": [
    "# gpt4_reviews_df.drop('review_id', axis=1, inplace=True)\n",
    "gpt4_reviews_df.head(10)"
   ]
  },
  {
   "cell_type": "code",
   "execution_count": 94,
   "id": "cb57773a",
   "metadata": {},
   "outputs": [
    {
     "name": "stdout",
     "output_type": "stream",
     "text": [
      "<class 'pandas.core.frame.DataFrame'>\n",
      "RangeIndex: 1226 entries, 0 to 1225\n",
      "Data columns (total 3 columns):\n",
      " #   Column       Non-Null Count  Dtype \n",
      "---  ------       --------------  ----- \n",
      " 0   review_id    1226 non-null   int64 \n",
      " 1   review_text  1226 non-null   object\n",
      " 2   sentiment    1226 non-null   int64 \n",
      "dtypes: int64(2), object(1)\n",
      "memory usage: 28.9+ KB\n"
     ]
    }
   ],
   "source": [
    "gpt4_reviews_df.info()"
   ]
  },
  {
   "cell_type": "code",
   "execution_count": 95,
   "id": "4086a343-17d3-4fc0-aee5-f58c4c9e8ef1",
   "metadata": {},
   "outputs": [
    {
     "data": {
      "text/html": [
       "<div>\n",
       "<style scoped>\n",
       "    .dataframe tbody tr th:only-of-type {\n",
       "        vertical-align: middle;\n",
       "    }\n",
       "\n",
       "    .dataframe tbody tr th {\n",
       "        vertical-align: top;\n",
       "    }\n",
       "\n",
       "    .dataframe thead th {\n",
       "        text-align: right;\n",
       "    }\n",
       "</style>\n",
       "<table border=\"1\" class=\"dataframe\">\n",
       "  <thead>\n",
       "    <tr style=\"text-align: right;\">\n",
       "      <th></th>\n",
       "      <th>review_text</th>\n",
       "      <th>sentiment</th>\n",
       "    </tr>\n",
       "  </thead>\n",
       "  <tbody>\n",
       "    <tr>\n",
       "      <th>0</th>\n",
       "      <td>Skvelý výkon a dizajn!</td>\n",
       "      <td>1</td>\n",
       "    </tr>\n",
       "    <tr>\n",
       "      <th>1</th>\n",
       "      <td>Slabá batéria</td>\n",
       "      <td>0</td>\n",
       "    </tr>\n",
       "    <tr>\n",
       "      <th>2</th>\n",
       "      <td>Veľmi praktický produkt.</td>\n",
       "      <td>1</td>\n",
       "    </tr>\n",
       "    <tr>\n",
       "      <th>3</th>\n",
       "      <td>Občasné spomalenia</td>\n",
       "      <td>0</td>\n",
       "    </tr>\n",
       "    <tr>\n",
       "      <th>4</th>\n",
       "      <td>Skvelá kvalita za tú cenu.</td>\n",
       "      <td>1</td>\n",
       "    </tr>\n",
       "    <tr>\n",
       "      <th>5</th>\n",
       "      <td>Zlá kompatibilita s inými zariadeniami</td>\n",
       "      <td>0</td>\n",
       "    </tr>\n",
       "    <tr>\n",
       "      <th>6</th>\n",
       "      <td>Jednoduché ovládanie.</td>\n",
       "      <td>1</td>\n",
       "    </tr>\n",
       "    <tr>\n",
       "      <th>7</th>\n",
       "      <td>Príliš veľké rozmery</td>\n",
       "      <td>0</td>\n",
       "    </tr>\n",
       "    <tr>\n",
       "      <th>8</th>\n",
       "      <td>Odporúčam každému!</td>\n",
       "      <td>1</td>\n",
       "    </tr>\n",
       "    <tr>\n",
       "      <th>9</th>\n",
       "      <td>Problémy s pripojením</td>\n",
       "      <td>0</td>\n",
       "    </tr>\n",
       "  </tbody>\n",
       "</table>\n",
       "</div>"
      ],
      "text/plain": [
       "                              review_text  sentiment\n",
       "0                  Skvelý výkon a dizajn!          1\n",
       "1                           Slabá batéria          0\n",
       "2                Veľmi praktický produkt.          1\n",
       "3                      Občasné spomalenia          0\n",
       "4              Skvelá kvalita za tú cenu.          1\n",
       "5  Zlá kompatibilita s inými zariadeniami          0\n",
       "6                   Jednoduché ovládanie.          1\n",
       "7                    Príliš veľké rozmery          0\n",
       "8                      Odporúčam každému!          1\n",
       "9                   Problémy s pripojením          0"
      ]
     },
     "execution_count": 95,
     "metadata": {},
     "output_type": "execute_result"
    }
   ],
   "source": [
    "gpt35_reviews_df.head(10)"
   ]
  },
  {
   "cell_type": "code",
   "execution_count": 96,
   "id": "90d5b9f2-e4f9-452c-8d1d-c99a510f1dda",
   "metadata": {},
   "outputs": [
    {
     "name": "stdout",
     "output_type": "stream",
     "text": [
      "<class 'pandas.core.frame.DataFrame'>\n",
      "RangeIndex: 4052 entries, 0 to 4051\n",
      "Data columns (total 2 columns):\n",
      " #   Column       Non-Null Count  Dtype \n",
      "---  ------       --------------  ----- \n",
      " 0   review_text  4052 non-null   object\n",
      " 1   sentiment    4052 non-null   int64 \n",
      "dtypes: int64(1), object(1)\n",
      "memory usage: 63.4+ KB\n"
     ]
    }
   ],
   "source": [
    "gpt35_reviews_df.info()"
   ]
  },
  {
   "cell_type": "code",
   "execution_count": 97,
   "id": "35e6cba5",
   "metadata": {},
   "outputs": [
    {
     "data": {
      "text/html": [
       "<div>\n",
       "<style scoped>\n",
       "    .dataframe tbody tr th:only-of-type {\n",
       "        vertical-align: middle;\n",
       "    }\n",
       "\n",
       "    .dataframe tbody tr th {\n",
       "        vertical-align: top;\n",
       "    }\n",
       "\n",
       "    .dataframe thead th {\n",
       "        text-align: right;\n",
       "    }\n",
       "</style>\n",
       "<table border=\"1\" class=\"dataframe\">\n",
       "  <thead>\n",
       "    <tr style=\"text-align: right;\">\n",
       "      <th></th>\n",
       "      <th>review_text</th>\n",
       "      <th>sentiment</th>\n",
       "    </tr>\n",
       "  </thead>\n",
       "  <tbody>\n",
       "    <tr>\n",
       "      <th>0</th>\n",
       "      <td>Som spokojná s tovarom aj rýchlosťou doručenia...</td>\n",
       "      <td>NaN</td>\n",
       "    </tr>\n",
       "    <tr>\n",
       "      <th>1</th>\n",
       "      <td>Kvalita ,rychlost</td>\n",
       "      <td>NaN</td>\n",
       "    </tr>\n",
       "    <tr>\n",
       "      <th>2</th>\n",
       "      <td>Doposiaľ najrýchlejšie dodanie tovaru</td>\n",
       "      <td>1.0</td>\n",
       "    </tr>\n",
       "    <tr>\n",
       "      <th>3</th>\n",
       "      <td>Neskora donaśka</td>\n",
       "      <td>0.0</td>\n",
       "    </tr>\n",
       "    <tr>\n",
       "      <th>4</th>\n",
       "      <td>Dopravca s nemožnosťou platby kartou</td>\n",
       "      <td>0.0</td>\n",
       "    </tr>\n",
       "    <tr>\n",
       "      <th>5</th>\n",
       "      <td>S obchodom som spokojný ale vyjadril som nespo...</td>\n",
       "      <td>NaN</td>\n",
       "    </tr>\n",
       "    <tr>\n",
       "      <th>6</th>\n",
       "      <td>Blizko</td>\n",
       "      <td>1.0</td>\n",
       "    </tr>\n",
       "    <tr>\n",
       "      <th>7</th>\n",
       "      <td>Rýchle dodanie tovaru. Som veľmi spokojná.</td>\n",
       "      <td>1.0</td>\n",
       "    </tr>\n",
       "    <tr>\n",
       "      <th>8</th>\n",
       "      <td>Rýchlosť doručenia</td>\n",
       "      <td>1.0</td>\n",
       "    </tr>\n",
       "    <tr>\n",
       "      <th>9</th>\n",
       "      <td>Tovar mi prišiel otvorený, našťastie funguje v...</td>\n",
       "      <td>NaN</td>\n",
       "    </tr>\n",
       "  </tbody>\n",
       "</table>\n",
       "</div>"
      ],
      "text/plain": [
       "                                         review_text  sentiment\n",
       "0  Som spokojná s tovarom aj rýchlosťou doručenia...        NaN\n",
       "1                                  Kvalita ,rychlost        NaN\n",
       "2              Doposiaľ najrýchlejšie dodanie tovaru        1.0\n",
       "3                                    Neskora donaśka        0.0\n",
       "4               Dopravca s nemožnosťou platby kartou        0.0\n",
       "5  S obchodom som spokojný ale vyjadril som nespo...        NaN\n",
       "6                                             Blizko        1.0\n",
       "7         Rýchle dodanie tovaru. Som veľmi spokojná.        1.0\n",
       "8                                 Rýchlosť doručenia        1.0\n",
       "9  Tovar mi prišiel otvorený, našťastie funguje v...        NaN"
      ]
     },
     "execution_count": 97,
     "metadata": {},
     "output_type": "execute_result"
    }
   ],
   "source": [
    "heureka_reviews_df.head(10)"
   ]
  },
  {
   "cell_type": "code",
   "execution_count": 98,
   "id": "0238b02f",
   "metadata": {},
   "outputs": [
    {
     "name": "stdout",
     "output_type": "stream",
     "text": [
      "<class 'pandas.core.frame.DataFrame'>\n",
      "RangeIndex: 3048277 entries, 0 to 3048276\n",
      "Data columns (total 2 columns):\n",
      " #   Column       Dtype  \n",
      "---  ------       -----  \n",
      " 0   review_text  object \n",
      " 1   sentiment    float64\n",
      "dtypes: float64(1), object(1)\n",
      "memory usage: 46.5+ MB\n"
     ]
    }
   ],
   "source": [
    "heureka_reviews_df.info()"
   ]
  },
  {
   "cell_type": "code",
   "execution_count": null,
   "id": "f2905505-4071-49f8-b957-0140c4b8c497",
   "metadata": {},
   "outputs": [],
   "source": []
  }
 ],
 "metadata": {
  "kernelspec": {
   "display_name": "Python 3 (ipykernel)",
   "language": "python",
   "name": "python3"
  },
  "language_info": {
   "codemirror_mode": {
    "name": "ipython",
    "version": 3
   },
   "file_extension": ".py",
   "mimetype": "text/x-python",
   "name": "python",
   "nbconvert_exporter": "python",
   "pygments_lexer": "ipython3",
   "version": "3.11.5"
  }
 },
 "nbformat": 4,
 "nbformat_minor": 5
}
